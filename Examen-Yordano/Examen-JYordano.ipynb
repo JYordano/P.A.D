{
 "cells": [
  {
   "cell_type": "markdown",
   "id": "bb4b9374-3aa9-4ad1-8d79-338475506126",
   "metadata": {},
   "source": [
    "# Examen Parcial DataWrangling y EDA - Yordano"
   ]
  },
  {
   "cell_type": "markdown",
   "id": "5af7a575-a21c-418e-ad01-5c812a8c7285",
   "metadata": {},
   "source": [
    "## <font color='red'> Data Wrangling </font>"
   ]
  },
  {
   "cell_type": "markdown",
   "id": "553620ca-cf7a-4ad5-afe3-8e6f98171bfb",
   "metadata": {},
   "source": [
    "### <font color='green'> Importo las librerías correspondientes </font>"
   ]
  },
  {
   "cell_type": "code",
   "execution_count": 74,
   "id": "1e03c727-26e5-440f-9d6f-6c274a1e07e3",
   "metadata": {},
   "outputs": [],
   "source": [
    "import pandas as pd\n",
    "import matplotlib.pylab as plt\n",
    "import seaborn as sns\n",
    "import numpy as np"
   ]
  },
  {
   "cell_type": "code",
   "execution_count": 75,
   "id": "3b210d10-6f96-4e11-9dea-8954c4658a4c",
   "metadata": {},
   "outputs": [],
   "source": [
    "# Cargo los datos desde los archivos CSV\n",
    "df_orders = pd.read_csv('Superstore.csv') #EL SEP LO PUEDO CAMBIAR\n",
    "df_returns = pd.read_csv('returns.csv',sep=\";\") #EL SEP LO PUEDO CAMBIAR\n",
    "df_people = pd.read_csv('people.csv',sep=\";\") #EL SEP LO PUEDO CAMBIAR\n",
    "\n",
    "#df_orders\n",
    "#df_returns\n",
    "#df_people"
   ]
  },
  {
   "cell_type": "markdown",
   "id": "fed8b274-a0e3-4667-a837-352407f53605",
   "metadata": {},
   "source": [
    "### <font color='blue'> Analizo si hay nulos y trabajo con ellos (en caso de que existan) </font>"
   ]
  },
  {
   "cell_type": "code",
   "execution_count": 76,
   "id": "70f3616c-c649-4751-954a-aae2acc8898e",
   "metadata": {
    "scrolled": true
   },
   "outputs": [
    {
     "name": "stdout",
     "output_type": "stream",
     "text": [
      "Row ID\n",
      "Row ID\n",
      "False    9994\n",
      "Name: count, dtype: int64\n",
      "\n",
      "Order ID\n",
      "Order ID\n",
      "False    9994\n",
      "Name: count, dtype: int64\n",
      "\n",
      "Order Date\n",
      "Order Date\n",
      "False    9994\n",
      "Name: count, dtype: int64\n",
      "\n",
      "Ship Date\n",
      "Ship Date\n",
      "False    9994\n",
      "Name: count, dtype: int64\n",
      "\n",
      "Ship Mode\n",
      "Ship Mode\n",
      "False    9994\n",
      "Name: count, dtype: int64\n",
      "\n",
      "Customer ID\n",
      "Customer ID\n",
      "False    9994\n",
      "Name: count, dtype: int64\n",
      "\n",
      "Customer Name\n",
      "Customer Name\n",
      "False    9994\n",
      "Name: count, dtype: int64\n",
      "\n",
      "Segment\n",
      "Segment\n",
      "False    9994\n",
      "Name: count, dtype: int64\n",
      "\n",
      "Country\n",
      "Country\n",
      "False    9994\n",
      "Name: count, dtype: int64\n",
      "\n",
      "City\n",
      "City\n",
      "False    9994\n",
      "Name: count, dtype: int64\n",
      "\n",
      "State\n",
      "State\n",
      "False    9994\n",
      "Name: count, dtype: int64\n",
      "\n",
      "Postal Code\n",
      "Postal Code\n",
      "False    9994\n",
      "Name: count, dtype: int64\n",
      "\n",
      "Region\n",
      "Region\n",
      "False    9994\n",
      "Name: count, dtype: int64\n",
      "\n",
      "Product ID\n",
      "Product ID\n",
      "False    9994\n",
      "Name: count, dtype: int64\n",
      "\n",
      "Category\n",
      "Category\n",
      "False    9994\n",
      "Name: count, dtype: int64\n",
      "\n",
      "Sub-Category\n",
      "Sub-Category\n",
      "False    9994\n",
      "Name: count, dtype: int64\n",
      "\n",
      "Product Name\n",
      "Product Name\n",
      "False    9994\n",
      "Name: count, dtype: int64\n",
      "\n",
      "Sales\n",
      "Sales\n",
      "False    9994\n",
      "Name: count, dtype: int64\n",
      "\n",
      "Quantity\n",
      "Quantity\n",
      "False    9994\n",
      "Name: count, dtype: int64\n",
      "\n",
      "Discount\n",
      "Discount\n",
      "False    9994\n",
      "Name: count, dtype: int64\n",
      "\n",
      "Profit\n",
      "Profit\n",
      "False    9994\n",
      "Name: count, dtype: int64\n",
      "\n"
     ]
    }
   ],
   "source": [
    "#Veo los valores nulos que hay en las variables\n",
    "#DF de orders\n",
    "for columna in df_orders.isnull().columns.values.tolist():\n",
    "    print(columna)\n",
    "    print (df_orders.isnull()[columna].value_counts())\n",
    "    print(\"\") "
   ]
  },
  {
   "cell_type": "code",
   "execution_count": 77,
   "id": "60bd075c-ca90-4d50-bd5d-5bb5145e8259",
   "metadata": {
    "scrolled": true
   },
   "outputs": [
    {
     "name": "stdout",
     "output_type": "stream",
     "text": [
      "Returned\n",
      "Returned\n",
      "False    296\n",
      "Name: count, dtype: int64\n",
      "\n",
      "Order ID\n",
      "Order ID\n",
      "False    296\n",
      "Name: count, dtype: int64\n",
      "\n"
     ]
    }
   ],
   "source": [
    "#Veo los valores nulos que hay en las variables\n",
    "#DF de returns\n",
    "for columna in df_returns.isnull().columns.values.tolist():\n",
    "    print(columna)\n",
    "    print (df_returns.isnull()[columna].value_counts())\n",
    "    print(\"\") "
   ]
  },
  {
   "cell_type": "code",
   "execution_count": 78,
   "id": "28c9b87f-c3e8-4390-bade-437f8b16564c",
   "metadata": {},
   "outputs": [
    {
     "name": "stdout",
     "output_type": "stream",
     "text": [
      "Person\n",
      "Person\n",
      "False    4\n",
      "Name: count, dtype: int64\n",
      "\n",
      "Region\n",
      "Region\n",
      "False    4\n",
      "Name: count, dtype: int64\n",
      "\n"
     ]
    }
   ],
   "source": [
    "#Veo los valores nulos que hay en las variables\n",
    "#DF de orders\n",
    "for columna in df_people.isnull().columns.values.tolist():\n",
    "    print(columna)\n",
    "    print (df_people.isnull()[columna].value_counts())\n",
    "    print(\"\") "
   ]
  },
  {
   "cell_type": "markdown",
   "id": "fc07a237-8777-4e4e-9e36-ce3f8de52538",
   "metadata": {},
   "source": [
    "### <font color='blue'> Ninguna de las hojas tiene nulos, por lo que voy a proceder a unificar las tablas en un único Dataframe </font>"
   ]
  },
  {
   "cell_type": "code",
   "execution_count": 79,
   "id": "ceeb4fcb-59b4-4139-b9cf-8afddd133e76",
   "metadata": {},
   "outputs": [
    {
     "data": {
      "text/html": [
       "<div>\n",
       "<style scoped>\n",
       "    .dataframe tbody tr th:only-of-type {\n",
       "        vertical-align: middle;\n",
       "    }\n",
       "\n",
       "    .dataframe tbody tr th {\n",
       "        vertical-align: top;\n",
       "    }\n",
       "\n",
       "    .dataframe thead th {\n",
       "        text-align: right;\n",
       "    }\n",
       "</style>\n",
       "<table border=\"1\" class=\"dataframe\">\n",
       "  <thead>\n",
       "    <tr style=\"text-align: right;\">\n",
       "      <th></th>\n",
       "      <th>Region</th>\n",
       "      <th>Person</th>\n",
       "    </tr>\n",
       "  </thead>\n",
       "  <tbody>\n",
       "    <tr>\n",
       "      <th>0</th>\n",
       "      <td>West</td>\n",
       "      <td>Anna Andreadi</td>\n",
       "    </tr>\n",
       "    <tr>\n",
       "      <th>1</th>\n",
       "      <td>West</td>\n",
       "      <td>Anna Andreadi</td>\n",
       "    </tr>\n",
       "    <tr>\n",
       "      <th>2</th>\n",
       "      <td>West</td>\n",
       "      <td>Anna Andreadi</td>\n",
       "    </tr>\n",
       "    <tr>\n",
       "      <th>3</th>\n",
       "      <td>East</td>\n",
       "      <td>Chuck Magee</td>\n",
       "    </tr>\n",
       "    <tr>\n",
       "      <th>4</th>\n",
       "      <td>East</td>\n",
       "      <td>Chuck Magee</td>\n",
       "    </tr>\n",
       "    <tr>\n",
       "      <th>...</th>\n",
       "      <td>...</td>\n",
       "      <td>...</td>\n",
       "    </tr>\n",
       "    <tr>\n",
       "      <th>795</th>\n",
       "      <td>East</td>\n",
       "      <td>Chuck Magee</td>\n",
       "    </tr>\n",
       "    <tr>\n",
       "      <th>796</th>\n",
       "      <td>East</td>\n",
       "      <td>Chuck Magee</td>\n",
       "    </tr>\n",
       "    <tr>\n",
       "      <th>797</th>\n",
       "      <td>West</td>\n",
       "      <td>Anna Andreadi</td>\n",
       "    </tr>\n",
       "    <tr>\n",
       "      <th>798</th>\n",
       "      <td>West</td>\n",
       "      <td>Anna Andreadi</td>\n",
       "    </tr>\n",
       "    <tr>\n",
       "      <th>799</th>\n",
       "      <td>West</td>\n",
       "      <td>Anna Andreadi</td>\n",
       "    </tr>\n",
       "  </tbody>\n",
       "</table>\n",
       "<p>800 rows × 2 columns</p>\n",
       "</div>"
      ],
      "text/plain": [
       "    Region         Person\n",
       "0     West  Anna Andreadi\n",
       "1     West  Anna Andreadi\n",
       "2     West  Anna Andreadi\n",
       "3     East    Chuck Magee\n",
       "4     East    Chuck Magee\n",
       "..     ...            ...\n",
       "795   East    Chuck Magee\n",
       "796   East    Chuck Magee\n",
       "797   West  Anna Andreadi\n",
       "798   West  Anna Andreadi\n",
       "799   West  Anna Andreadi\n",
       "\n",
       "[800 rows x 2 columns]"
      ]
     },
     "execution_count": 79,
     "metadata": {},
     "output_type": "execute_result"
    }
   ],
   "source": [
    "# Paso 1: Uno df_order y df_returns por la columna \"Order_id\"\n",
    "df_unido = df_orders.merge(df_returns, on=\"Order ID\", how=\"inner\")\n",
    "\n",
    "#Agrego el supervisor/a de cada región al dataframe en conjunto\n",
    "df_unido = df_unido.merge(df_people[['Region', 'Person']], on='Region', how='left')\n",
    "\n",
    "#Verifico que se agregaron correctamente\n",
    "df_unido[['Region','Person']]\n"
   ]
  },
  {
   "cell_type": "markdown",
   "id": "694eedf2-3478-4c09-b731-674e675a2d19",
   "metadata": {},
   "source": [
    "### <font color='blue'>A partir de ahora, uso este dataframe único, llamado df_unido</font>"
   ]
  },
  {
   "cell_type": "markdown",
   "id": "5aa640dc-40a4-48d4-9c29-d37de93ab3a3",
   "metadata": {},
   "source": [
    "### <font color='green'> Corrección de tipo de dato</font>"
   ]
  },
  {
   "cell_type": "code",
   "execution_count": 80,
   "id": "f3d987eb-4cb0-42cc-9852-81c70b7b2e4f",
   "metadata": {},
   "outputs": [
    {
     "data": {
      "text/plain": [
       "Row ID             int64\n",
       "Order ID          object\n",
       "Order Date        object\n",
       "Ship Date         object\n",
       "Ship Mode         object\n",
       "Customer ID       object\n",
       "Customer Name     object\n",
       "Segment           object\n",
       "Country           object\n",
       "City              object\n",
       "State             object\n",
       "Postal Code        int64\n",
       "Region            object\n",
       "Product ID        object\n",
       "Category          object\n",
       "Sub-Category      object\n",
       "Product Name      object\n",
       "Sales            float64\n",
       "Quantity           int64\n",
       "Discount         float64\n",
       "Profit           float64\n",
       "Returned          object\n",
       "Person            object\n",
       "dtype: object"
      ]
     },
     "execution_count": 80,
     "metadata": {},
     "output_type": "execute_result"
    }
   ],
   "source": [
    "#Verifico que el tipo de data sea el correcto\n",
    "df_unido.dtypes"
   ]
  },
  {
   "cell_type": "markdown",
   "id": "fdd9fd69-3de2-459a-a48b-231ea1215df5",
   "metadata": {},
   "source": [
    "### <font color='blue'> Analicé todas las columnas, y los tipos son correctos </font>"
   ]
  },
  {
   "cell_type": "markdown",
   "id": "a9217f2f-3697-4d46-99ed-05aac93dfdaa",
   "metadata": {},
   "source": [
    "### <font color='green'> Estandarización de datos (no es necesario)</font>"
   ]
  },
  {
   "cell_type": "markdown",
   "id": "ab6cb1de-ff33-40fa-abe3-c86be741b27f",
   "metadata": {},
   "source": [
    "### <font color='green'> Binning</font>"
   ]
  },
  {
   "cell_type": "code",
   "execution_count": 81,
   "id": "d8ff17aa-368b-4b72-b5ec-27a472b5320f",
   "metadata": {},
   "outputs": [
    {
     "name": "stdout",
     "output_type": "stream",
     "text": [
      "   Sub-Category  Count         Category\n",
      "0       Binders    137       Technology\n",
      "1         Paper    123  Office Supplies\n",
      "2        Phones     77  Office Supplies\n",
      "3   Furnishings     72  Office Supplies\n",
      "4   Accessories     61        Furniture\n",
      "5       Storage     57        Furniture\n",
      "6        Chairs     53       Technology\n",
      "7           Art     47  Office Supplies\n",
      "8    Appliances     40  Office Supplies\n",
      "9        Tables     30        Furniture\n",
      "10       Labels     21  Office Supplies\n",
      "11    Fasteners     19       Technology\n",
      "12    Bookcases     16  Office Supplies\n",
      "13     Supplies     16       Technology\n",
      "14     Machines     13  Office Supplies\n",
      "15    Envelopes     13  Office Supplies\n",
      "16      Copiers      5        Furniture\n"
     ]
    }
   ],
   "source": [
    "#Cuento los valores que existen\n",
    "#df_unido[\"Category\"].value_counts()\n",
    "subcat_counts=df_unido[\"Sub-Category\"].value_counts()\n",
    "# Creo un df para mostrar el recuento de subcategorías y la categoría\n",
    "result_df = pd.DataFrame({'Sub-Category': subcat_counts.index, 'Count': subcat_counts.values})\n",
    "\n",
    "# Utilizo groupby para obtener la categoría correspondiente para cada subcategoría\n",
    "result_df['Category'] = df_unido.groupby('Sub-Category')['Category'].first().values\n",
    "\n",
    "# Muestro el resultado\n",
    "print(result_df)"
   ]
  },
  {
   "cell_type": "markdown",
   "id": "758b00c3-c302-4402-9f7f-14e815f80b6c",
   "metadata": {},
   "source": [
    "## <font color='red'> EDA. Veré las ventas de las distintas categorías a lo largo del año, y haré comparaciones entre ellas. </font>"
   ]
  },
  {
   "cell_type": "markdown",
   "id": "2913889e-ba93-4da9-ba69-9cf9d3cccae1",
   "metadata": {},
   "source": [
    "### <font color='green'> Correlación entre variables</font>"
   ]
  },
  {
   "cell_type": "code",
   "execution_count": 82,
   "id": "d95c1be9-fe89-4883-b12c-78b6fbd85d7a",
   "metadata": {},
   "outputs": [
    {
     "data": {
      "text/html": [
       "<div>\n",
       "<style scoped>\n",
       "    .dataframe tbody tr th:only-of-type {\n",
       "        vertical-align: middle;\n",
       "    }\n",
       "\n",
       "    .dataframe tbody tr th {\n",
       "        vertical-align: top;\n",
       "    }\n",
       "\n",
       "    .dataframe thead th {\n",
       "        text-align: right;\n",
       "    }\n",
       "</style>\n",
       "<table border=\"1\" class=\"dataframe\">\n",
       "  <thead>\n",
       "    <tr style=\"text-align: right;\">\n",
       "      <th></th>\n",
       "      <th>Sales</th>\n",
       "      <th>Profit</th>\n",
       "      <th>Discount</th>\n",
       "      <th>Quantity</th>\n",
       "    </tr>\n",
       "  </thead>\n",
       "  <tbody>\n",
       "    <tr>\n",
       "      <th>Sales</th>\n",
       "      <td>1.000000</td>\n",
       "      <td>0.683786</td>\n",
       "      <td>-0.010137</td>\n",
       "      <td>0.180907</td>\n",
       "    </tr>\n",
       "    <tr>\n",
       "      <th>Profit</th>\n",
       "      <td>0.683786</td>\n",
       "      <td>1.000000</td>\n",
       "      <td>-0.188843</td>\n",
       "      <td>0.009480</td>\n",
       "    </tr>\n",
       "    <tr>\n",
       "      <th>Discount</th>\n",
       "      <td>-0.010137</td>\n",
       "      <td>-0.188843</td>\n",
       "      <td>1.000000</td>\n",
       "      <td>0.034721</td>\n",
       "    </tr>\n",
       "    <tr>\n",
       "      <th>Quantity</th>\n",
       "      <td>0.180907</td>\n",
       "      <td>0.009480</td>\n",
       "      <td>0.034721</td>\n",
       "      <td>1.000000</td>\n",
       "    </tr>\n",
       "  </tbody>\n",
       "</table>\n",
       "</div>"
      ],
      "text/plain": [
       "             Sales    Profit  Discount  Quantity\n",
       "Sales     1.000000  0.683786 -0.010137  0.180907\n",
       "Profit    0.683786  1.000000 -0.188843  0.009480\n",
       "Discount -0.010137 -0.188843  1.000000  0.034721\n",
       "Quantity  0.180907  0.009480  0.034721  1.000000"
      ]
     },
     "execution_count": 82,
     "metadata": {},
     "output_type": "execute_result"
    }
   ],
   "source": [
    "df_unido[['Sales','Profit','Discount','Quantity']].corr()"
   ]
  },
  {
   "cell_type": "markdown",
   "id": "62dfcb22-992f-41e2-a9c7-d20f737a8cb7",
   "metadata": {},
   "source": [
    "### <font color='blue'> La única correlación medianamente buena es la que existe entre ganancias y ventas (precio), que es de 0.68, una correlación se podría decir buena y positiva. Era de esperarse que haya una dependencia entre dichas variables </font>"
   ]
  },
  {
   "cell_type": "markdown",
   "id": "a47a2e2f-526a-477a-a29b-f9f664102d0c",
   "metadata": {},
   "source": [
    "### <font color='green'> Gráficas</font>"
   ]
  },
  {
   "cell_type": "code",
   "execution_count": 83,
   "id": "bb75c9d8-1977-4316-acc0-71d4c02f48f6",
   "metadata": {},
   "outputs": [
    {
     "data": {
      "text/plain": [
       "<Axes: xlabel='Sales', ylabel='Profit'>"
      ]
     },
     "execution_count": 83,
     "metadata": {},
     "output_type": "execute_result"
    },
    {
     "data": {
      "image/png": "[encoded data removed]",
      "text/plain": [
       "<Figure size 640x480 with 1 Axes>"
      ]
     },
     "metadata": {},
     "output_type": "display_data"
    }
   ],
   "source": [
    "#Lineal\n",
    "sns.regplot(x=\"Sales\", y=\"Profit\", data=df_unido)"
   ]
  },
  {
   "cell_type": "markdown",
   "id": "f02dbb60-e5e6-4c76-b2c4-ca3887d94575",
   "metadata": {},
   "source": [
    "Cuanto mayor es el precio de los productos, mayor ganancia habrá. De todas formas, no es muy útil la gráfica lineal para analizar el rendimiento del mercadito"
   ]
  },
  {
   "cell_type": "code",
   "execution_count": 84,
   "id": "c7cb789d-2dc3-458c-8210-8c4ee652071f",
   "metadata": {},
   "outputs": [
    {
     "data": {
      "text/plain": [
       "<Axes: xlabel='Category', ylabel='Profit'>"
      ]
     },
     "execution_count": 84,
     "metadata": {},
     "output_type": "execute_result"
    },
    {
     "data": {
      "image/png": "[encoded data removed]",
      "text/plain": [
       "<Figure size 640x480 with 1 Axes>"
      ]
     },
     "metadata": {},
     "output_type": "display_data"
    }
   ],
   "source": [
    "#Boxplot\n",
    "sns.boxplot(x=\"Category\", y=\"Profit\", data=df_unido)"
   ]
  },
  {
   "cell_type": "markdown",
   "id": "70169173-00e8-4dfc-8eb2-e4457c334a38",
   "metadata": {},
   "source": [
    "No me da ninguna información de qué categoría me da más ganancia"
   ]
  },
  {
   "cell_type": "code",
   "execution_count": 85,
   "id": "d0e0095f-283b-4330-bb6a-c8c4be347ffd",
   "metadata": {},
   "outputs": [
    {
     "data": {
      "text/plain": [
       "<Axes: xlabel='Profit', ylabel='Sub-Category'>"
      ]
     },
     "execution_count": 85,
     "metadata": {},
     "output_type": "execute_result"
    },
    {
     "data": {
      "image/png": "[encoded data removed]",
      "text/plain": [
       "<Figure size 640x480 with 1 Axes>"
      ]
     },
     "metadata": {},
     "output_type": "display_data"
    }
   ],
   "source": [
    "sns.boxplot(x=\"Profit\", y=\"Sub-Category\", data=df_unido)"
   ]
  },
  {
   "cell_type": "markdown",
   "id": "47320604-ad65-44d3-89bf-14936683a5c2",
   "metadata": {},
   "source": [
    "Aquí puede observarse quizás algo más que en la gráfica anterior. Se ve claramente que lo que genera mayor ganancia al negocio son las fotocopias (copiers) que se realizan a los clientes, alcanzando una ganancia de hasta unos 1500 (no sé que moneda será). Por otro lado, Se ve que las máquinas (Machines) producen una pérdida significativa en ciertos casos al local, por lo que el mismo se ve afectado para mal debido a esta subcategoría "
   ]
  },
  {
   "cell_type": "code",
   "execution_count": 86,
   "id": "b5b33fd7-e2c3-42ca-aace-382ddf47d616",
   "metadata": {},
   "outputs": [],
   "source": [
    "#Recorto el dataframe para utilizar la información que me es útil\n",
    "df_aux=df_unido[['Quantity','Sales','Discount','Profit']]"
   ]
  },
  {
   "cell_type": "code",
   "execution_count": 87,
   "id": "c34c3ae6-0e4b-44b7-82c9-54b7cea739f6",
   "metadata": {},
   "outputs": [
    {
     "data": {
      "text/plain": [
       "<matplotlib.legend.Legend at 0x1a55de7ee10>"
      ]
     },
     "execution_count": 87,
     "metadata": {},
     "output_type": "execute_result"
    },
    {
     "data": {
      "image/png": "[encoded data removed]",
      "text/plain": [
       "<Figure size 640x480 with 1 Axes>"
      ]
     },
     "metadata": {},
     "output_type": "display_data"
    }
   ],
   "source": [
    "sns.scatterplot(x='Profit',y='Category',data=df_unido,hue='Sub-Category')\n",
    "plt.legend(bbox_to_anchor=(1,1),loc=2)"
   ]
  },
  {
   "cell_type": "markdown",
   "id": "5f78e8d5-a0ac-4e41-a414-2fdb89a09c58",
   "metadata": {},
   "source": [
    "Viendo muy refinadamente en esta última gráfica, puede apreciarse que hay Outliers (ya los habiamos visto en el boxplot), y hay varios de ellos que se puede deducir muy sencillamente que son datos erróneos, como lo son el dato que genera una pérdida de casi 4000 (carpetas o binders), así también el dato que aparece con una ganancia brutal, dado por las fotocopiadoras.\n",
    "Observando por categorías, puede quizás apreciarse una leve mejoría en las ganancias a partir de la venta de material de oficina, mientras que las ventas de productos tecnológicos no presentan un buen escenario para el negocio."
   ]
  },
  {
   "cell_type": "code",
   "execution_count": 88,
   "id": "e3b57330-fcdb-4330-9916-88677817dd8c",
   "metadata": {},
   "outputs": [
    {
     "data": {
      "text/plain": [
       "<matplotlib.legend.Legend at 0x1a55e023d50>"
      ]
     },
     "execution_count": 88,
     "metadata": {},
     "output_type": "execute_result"
    },
    {
     "data": {
      "image/png": "[encoded data removed]",
      "text/plain": [
       "<Figure size 640x480 with 1 Axes>"
      ]
     },
     "metadata": {},
     "output_type": "display_data"
    }
   ],
   "source": [
    "sns.scatterplot(x='Profit',y='Region',data=df_unido,hue='Segment')\n",
    "plt.legend(bbox_to_anchor=(1,1),loc=2)"
   ]
  },
  {
   "cell_type": "markdown",
   "id": "8f5cbf43-85ea-417d-acf9-d144abe1c33e",
   "metadata": {},
   "source": [
    "### <font color='green'> Análisis estadístico descriptivo. Aquí voy a analizar mejor quién compra más, según el tipo de clientes, ya que el scatter plot realizado no brinda suficiente información</font>"
   ]
  },
  {
   "cell_type": "code",
   "execution_count": 89,
   "id": "7c3c364c-b14f-4c58-95d2-2d6563630b92",
   "metadata": {},
   "outputs": [
    {
     "data": {
      "text/html": [
       "<div>\n",
       "<style scoped>\n",
       "    .dataframe tbody tr th:only-of-type {\n",
       "        vertical-align: middle;\n",
       "    }\n",
       "\n",
       "    .dataframe tbody tr th {\n",
       "        vertical-align: top;\n",
       "    }\n",
       "\n",
       "    .dataframe thead th {\n",
       "        text-align: right;\n",
       "    }\n",
       "</style>\n",
       "<table border=\"1\" class=\"dataframe\">\n",
       "  <thead>\n",
       "    <tr style=\"text-align: right;\">\n",
       "      <th></th>\n",
       "      <th>Row ID</th>\n",
       "      <th>Order ID</th>\n",
       "      <th>Order Date</th>\n",
       "      <th>Ship Date</th>\n",
       "      <th>Ship Mode</th>\n",
       "      <th>Customer ID</th>\n",
       "      <th>Customer Name</th>\n",
       "      <th>Segment</th>\n",
       "      <th>Country</th>\n",
       "      <th>City</th>\n",
       "      <th>...</th>\n",
       "      <th>Product ID</th>\n",
       "      <th>Category</th>\n",
       "      <th>Sub-Category</th>\n",
       "      <th>Product Name</th>\n",
       "      <th>Sales</th>\n",
       "      <th>Quantity</th>\n",
       "      <th>Discount</th>\n",
       "      <th>Profit</th>\n",
       "      <th>Returned</th>\n",
       "      <th>Person</th>\n",
       "    </tr>\n",
       "  </thead>\n",
       "  <tbody>\n",
       "    <tr>\n",
       "      <th>0</th>\n",
       "      <td>19</td>\n",
       "      <td>CA-2014-143336</td>\n",
       "      <td>8/27/2014</td>\n",
       "      <td>9/1/2014</td>\n",
       "      <td>Second Class</td>\n",
       "      <td>ZD-21925</td>\n",
       "      <td>Zuschuss Donatelli</td>\n",
       "      <td>Consumer</td>\n",
       "      <td>United States</td>\n",
       "      <td>San Francisco</td>\n",
       "      <td>...</td>\n",
       "      <td>OFF-AR-10003056</td>\n",
       "      <td>Office Supplies</td>\n",
       "      <td>Art</td>\n",
       "      <td>Newell 341</td>\n",
       "      <td>8.560</td>\n",
       "      <td>2</td>\n",
       "      <td>0.0</td>\n",
       "      <td>2.4824</td>\n",
       "      <td>Yes</td>\n",
       "      <td>Anna Andreadi</td>\n",
       "    </tr>\n",
       "    <tr>\n",
       "      <th>1</th>\n",
       "      <td>20</td>\n",
       "      <td>CA-2014-143336</td>\n",
       "      <td>8/27/2014</td>\n",
       "      <td>9/1/2014</td>\n",
       "      <td>Second Class</td>\n",
       "      <td>ZD-21925</td>\n",
       "      <td>Zuschuss Donatelli</td>\n",
       "      <td>Consumer</td>\n",
       "      <td>United States</td>\n",
       "      <td>San Francisco</td>\n",
       "      <td>...</td>\n",
       "      <td>TEC-PH-10001949</td>\n",
       "      <td>Technology</td>\n",
       "      <td>Phones</td>\n",
       "      <td>Cisco SPA 501G IP Phone</td>\n",
       "      <td>213.480</td>\n",
       "      <td>3</td>\n",
       "      <td>0.2</td>\n",
       "      <td>16.0110</td>\n",
       "      <td>Yes</td>\n",
       "      <td>Anna Andreadi</td>\n",
       "    </tr>\n",
       "    <tr>\n",
       "      <th>2</th>\n",
       "      <td>21</td>\n",
       "      <td>CA-2014-143336</td>\n",
       "      <td>8/27/2014</td>\n",
       "      <td>9/1/2014</td>\n",
       "      <td>Second Class</td>\n",
       "      <td>ZD-21925</td>\n",
       "      <td>Zuschuss Donatelli</td>\n",
       "      <td>Consumer</td>\n",
       "      <td>United States</td>\n",
       "      <td>San Francisco</td>\n",
       "      <td>...</td>\n",
       "      <td>OFF-BI-10002215</td>\n",
       "      <td>Office Supplies</td>\n",
       "      <td>Binders</td>\n",
       "      <td>Wilson Jones Hanging View Binder, White, 1\"</td>\n",
       "      <td>22.720</td>\n",
       "      <td>4</td>\n",
       "      <td>0.2</td>\n",
       "      <td>7.3840</td>\n",
       "      <td>Yes</td>\n",
       "      <td>Anna Andreadi</td>\n",
       "    </tr>\n",
       "    <tr>\n",
       "      <th>3</th>\n",
       "      <td>56</td>\n",
       "      <td>CA-2016-111682</td>\n",
       "      <td>6/17/2016</td>\n",
       "      <td>6/18/2016</td>\n",
       "      <td>First Class</td>\n",
       "      <td>TB-21055</td>\n",
       "      <td>Ted Butterfield</td>\n",
       "      <td>Consumer</td>\n",
       "      <td>United States</td>\n",
       "      <td>Troy</td>\n",
       "      <td>...</td>\n",
       "      <td>OFF-ST-10000604</td>\n",
       "      <td>Office Supplies</td>\n",
       "      <td>Storage</td>\n",
       "      <td>Home/Office Personal File Carts</td>\n",
       "      <td>208.560</td>\n",
       "      <td>6</td>\n",
       "      <td>0.0</td>\n",
       "      <td>52.1400</td>\n",
       "      <td>Yes</td>\n",
       "      <td>Chuck Magee</td>\n",
       "    </tr>\n",
       "    <tr>\n",
       "      <th>4</th>\n",
       "      <td>57</td>\n",
       "      <td>CA-2016-111682</td>\n",
       "      <td>6/17/2016</td>\n",
       "      <td>6/18/2016</td>\n",
       "      <td>First Class</td>\n",
       "      <td>TB-21055</td>\n",
       "      <td>Ted Butterfield</td>\n",
       "      <td>Consumer</td>\n",
       "      <td>United States</td>\n",
       "      <td>Troy</td>\n",
       "      <td>...</td>\n",
       "      <td>OFF-PA-10001569</td>\n",
       "      <td>Office Supplies</td>\n",
       "      <td>Paper</td>\n",
       "      <td>Xerox 232</td>\n",
       "      <td>32.400</td>\n",
       "      <td>5</td>\n",
       "      <td>0.0</td>\n",
       "      <td>15.5520</td>\n",
       "      <td>Yes</td>\n",
       "      <td>Chuck Magee</td>\n",
       "    </tr>\n",
       "    <tr>\n",
       "      <th>...</th>\n",
       "      <td>...</td>\n",
       "      <td>...</td>\n",
       "      <td>...</td>\n",
       "      <td>...</td>\n",
       "      <td>...</td>\n",
       "      <td>...</td>\n",
       "      <td>...</td>\n",
       "      <td>...</td>\n",
       "      <td>...</td>\n",
       "      <td>...</td>\n",
       "      <td>...</td>\n",
       "      <td>...</td>\n",
       "      <td>...</td>\n",
       "      <td>...</td>\n",
       "      <td>...</td>\n",
       "      <td>...</td>\n",
       "      <td>...</td>\n",
       "      <td>...</td>\n",
       "      <td>...</td>\n",
       "      <td>...</td>\n",
       "      <td>...</td>\n",
       "    </tr>\n",
       "    <tr>\n",
       "      <th>795</th>\n",
       "      <td>9958</td>\n",
       "      <td>US-2014-143287</td>\n",
       "      <td>11/11/2014</td>\n",
       "      <td>11/17/2014</td>\n",
       "      <td>Standard Class</td>\n",
       "      <td>KN-16705</td>\n",
       "      <td>Kristina Nunn</td>\n",
       "      <td>Home Office</td>\n",
       "      <td>United States</td>\n",
       "      <td>New Rochelle</td>\n",
       "      <td>...</td>\n",
       "      <td>OFF-PA-10004039</td>\n",
       "      <td>Office Supplies</td>\n",
       "      <td>Paper</td>\n",
       "      <td>Xerox 1882</td>\n",
       "      <td>223.920</td>\n",
       "      <td>4</td>\n",
       "      <td>0.0</td>\n",
       "      <td>109.7208</td>\n",
       "      <td>Yes</td>\n",
       "      <td>Chuck Magee</td>\n",
       "    </tr>\n",
       "    <tr>\n",
       "      <th>796</th>\n",
       "      <td>9959</td>\n",
       "      <td>US-2014-143287</td>\n",
       "      <td>11/11/2014</td>\n",
       "      <td>11/17/2014</td>\n",
       "      <td>Standard Class</td>\n",
       "      <td>KN-16705</td>\n",
       "      <td>Kristina Nunn</td>\n",
       "      <td>Home Office</td>\n",
       "      <td>United States</td>\n",
       "      <td>New Rochelle</td>\n",
       "      <td>...</td>\n",
       "      <td>OFF-SU-10001574</td>\n",
       "      <td>Office Supplies</td>\n",
       "      <td>Supplies</td>\n",
       "      <td>Acme Value Line Scissors</td>\n",
       "      <td>7.300</td>\n",
       "      <td>2</td>\n",
       "      <td>0.0</td>\n",
       "      <td>2.1900</td>\n",
       "      <td>Yes</td>\n",
       "      <td>Chuck Magee</td>\n",
       "    </tr>\n",
       "    <tr>\n",
       "      <th>797</th>\n",
       "      <td>9991</td>\n",
       "      <td>CA-2017-121258</td>\n",
       "      <td>2/26/2017</td>\n",
       "      <td>3/3/2017</td>\n",
       "      <td>Standard Class</td>\n",
       "      <td>DB-13060</td>\n",
       "      <td>Dave Brooks</td>\n",
       "      <td>Consumer</td>\n",
       "      <td>United States</td>\n",
       "      <td>Costa Mesa</td>\n",
       "      <td>...</td>\n",
       "      <td>FUR-FU-10000747</td>\n",
       "      <td>Furniture</td>\n",
       "      <td>Furnishings</td>\n",
       "      <td>Tenex B1-RE Series Chair Mats for Low Pile Car...</td>\n",
       "      <td>91.960</td>\n",
       "      <td>2</td>\n",
       "      <td>0.0</td>\n",
       "      <td>15.6332</td>\n",
       "      <td>Yes</td>\n",
       "      <td>Anna Andreadi</td>\n",
       "    </tr>\n",
       "    <tr>\n",
       "      <th>798</th>\n",
       "      <td>9992</td>\n",
       "      <td>CA-2017-121258</td>\n",
       "      <td>2/26/2017</td>\n",
       "      <td>3/3/2017</td>\n",
       "      <td>Standard Class</td>\n",
       "      <td>DB-13060</td>\n",
       "      <td>Dave Brooks</td>\n",
       "      <td>Consumer</td>\n",
       "      <td>United States</td>\n",
       "      <td>Costa Mesa</td>\n",
       "      <td>...</td>\n",
       "      <td>TEC-PH-10003645</td>\n",
       "      <td>Technology</td>\n",
       "      <td>Phones</td>\n",
       "      <td>Aastra 57i VoIP phone</td>\n",
       "      <td>258.576</td>\n",
       "      <td>2</td>\n",
       "      <td>0.2</td>\n",
       "      <td>19.3932</td>\n",
       "      <td>Yes</td>\n",
       "      <td>Anna Andreadi</td>\n",
       "    </tr>\n",
       "    <tr>\n",
       "      <th>799</th>\n",
       "      <td>9993</td>\n",
       "      <td>CA-2017-121258</td>\n",
       "      <td>2/26/2017</td>\n",
       "      <td>3/3/2017</td>\n",
       "      <td>Standard Class</td>\n",
       "      <td>DB-13060</td>\n",
       "      <td>Dave Brooks</td>\n",
       "      <td>Consumer</td>\n",
       "      <td>United States</td>\n",
       "      <td>Costa Mesa</td>\n",
       "      <td>...</td>\n",
       "      <td>OFF-PA-10004041</td>\n",
       "      <td>Office Supplies</td>\n",
       "      <td>Paper</td>\n",
       "      <td>It's Hot Message Books with Stickers, 2 3/4\" x 5\"</td>\n",
       "      <td>29.600</td>\n",
       "      <td>4</td>\n",
       "      <td>0.0</td>\n",
       "      <td>13.3200</td>\n",
       "      <td>Yes</td>\n",
       "      <td>Anna Andreadi</td>\n",
       "    </tr>\n",
       "  </tbody>\n",
       "</table>\n",
       "<p>800 rows × 23 columns</p>\n",
       "</div>"
      ],
      "text/plain": [
       "     Row ID        Order ID  Order Date   Ship Date       Ship Mode  \\\n",
       "0        19  CA-2014-143336   8/27/2014    9/1/2014    Second Class   \n",
       "1        20  CA-2014-143336   8/27/2014    9/1/2014    Second Class   \n",
       "2        21  CA-2014-143336   8/27/2014    9/1/2014    Second Class   \n",
       "3        56  CA-2016-111682   6/17/2016   6/18/2016     First Class   \n",
       "4        57  CA-2016-111682   6/17/2016   6/18/2016     First Class   \n",
       "..      ...             ...         ...         ...             ...   \n",
       "795    9958  US-2014-143287  11/11/2014  11/17/2014  Standard Class   \n",
       "796    9959  US-2014-143287  11/11/2014  11/17/2014  Standard Class   \n",
       "797    9991  CA-2017-121258   2/26/2017    3/3/2017  Standard Class   \n",
       "798    9992  CA-2017-121258   2/26/2017    3/3/2017  Standard Class   \n",
       "799    9993  CA-2017-121258   2/26/2017    3/3/2017  Standard Class   \n",
       "\n",
       "    Customer ID       Customer Name      Segment        Country  \\\n",
       "0      ZD-21925  Zuschuss Donatelli     Consumer  United States   \n",
       "1      ZD-21925  Zuschuss Donatelli     Consumer  United States   \n",
       "2      ZD-21925  Zuschuss Donatelli     Consumer  United States   \n",
       "3      TB-21055     Ted Butterfield     Consumer  United States   \n",
       "4      TB-21055     Ted Butterfield     Consumer  United States   \n",
       "..          ...                 ...          ...            ...   \n",
       "795    KN-16705       Kristina Nunn  Home Office  United States   \n",
       "796    KN-16705       Kristina Nunn  Home Office  United States   \n",
       "797    DB-13060         Dave Brooks     Consumer  United States   \n",
       "798    DB-13060         Dave Brooks     Consumer  United States   \n",
       "799    DB-13060         Dave Brooks     Consumer  United States   \n",
       "\n",
       "              City  ...       Product ID         Category Sub-Category  \\\n",
       "0    San Francisco  ...  OFF-AR-10003056  Office Supplies          Art   \n",
       "1    San Francisco  ...  TEC-PH-10001949       Technology       Phones   \n",
       "2    San Francisco  ...  OFF-BI-10002215  Office Supplies      Binders   \n",
       "3             Troy  ...  OFF-ST-10000604  Office Supplies      Storage   \n",
       "4             Troy  ...  OFF-PA-10001569  Office Supplies        Paper   \n",
       "..             ...  ...              ...              ...          ...   \n",
       "795   New Rochelle  ...  OFF-PA-10004039  Office Supplies        Paper   \n",
       "796   New Rochelle  ...  OFF-SU-10001574  Office Supplies     Supplies   \n",
       "797     Costa Mesa  ...  FUR-FU-10000747        Furniture  Furnishings   \n",
       "798     Costa Mesa  ...  TEC-PH-10003645       Technology       Phones   \n",
       "799     Costa Mesa  ...  OFF-PA-10004041  Office Supplies        Paper   \n",
       "\n",
       "                                          Product Name    Sales Quantity  \\\n",
       "0                                           Newell 341    8.560        2   \n",
       "1                              Cisco SPA 501G IP Phone  213.480        3   \n",
       "2          Wilson Jones Hanging View Binder, White, 1\"   22.720        4   \n",
       "3                      Home/Office Personal File Carts  208.560        6   \n",
       "4                                            Xerox 232   32.400        5   \n",
       "..                                                 ...      ...      ...   \n",
       "795                                         Xerox 1882  223.920        4   \n",
       "796                           Acme Value Line Scissors    7.300        2   \n",
       "797  Tenex B1-RE Series Chair Mats for Low Pile Car...   91.960        2   \n",
       "798                              Aastra 57i VoIP phone  258.576        2   \n",
       "799  It's Hot Message Books with Stickers, 2 3/4\" x 5\"   29.600        4   \n",
       "\n",
       "    Discount    Profit  Returned         Person  \n",
       "0        0.0    2.4824       Yes  Anna Andreadi  \n",
       "1        0.2   16.0110       Yes  Anna Andreadi  \n",
       "2        0.2    7.3840       Yes  Anna Andreadi  \n",
       "3        0.0   52.1400       Yes    Chuck Magee  \n",
       "4        0.0   15.5520       Yes    Chuck Magee  \n",
       "..       ...       ...       ...            ...  \n",
       "795      0.0  109.7208       Yes    Chuck Magee  \n",
       "796      0.0    2.1900       Yes    Chuck Magee  \n",
       "797      0.0   15.6332       Yes  Anna Andreadi  \n",
       "798      0.2   19.3932       Yes  Anna Andreadi  \n",
       "799      0.0   13.3200       Yes  Anna Andreadi  \n",
       "\n",
       "[800 rows x 23 columns]"
      ]
     },
     "execution_count": 89,
     "metadata": {},
     "output_type": "execute_result"
    }
   ],
   "source": [
    "df_unido"
   ]
  },
  {
   "cell_type": "code",
   "execution_count": 90,
   "id": "ba733df1-2536-428a-abe4-8707786237fb",
   "metadata": {},
   "outputs": [
    {
     "data": {
      "text/html": [
       "<div>\n",
       "<style scoped>\n",
       "    .dataframe tbody tr th:only-of-type {\n",
       "        vertical-align: middle;\n",
       "    }\n",
       "\n",
       "    .dataframe tbody tr th {\n",
       "        vertical-align: top;\n",
       "    }\n",
       "\n",
       "    .dataframe thead th {\n",
       "        text-align: right;\n",
       "    }\n",
       "</style>\n",
       "<table border=\"1\" class=\"dataframe\">\n",
       "  <thead>\n",
       "    <tr style=\"text-align: right;\">\n",
       "      <th></th>\n",
       "      <th>Segment</th>\n",
       "      <th>Sales</th>\n",
       "    </tr>\n",
       "  </thead>\n",
       "  <tbody>\n",
       "    <tr>\n",
       "      <th>0</th>\n",
       "      <td>Consumer</td>\n",
       "      <td>247.383221</td>\n",
       "    </tr>\n",
       "    <tr>\n",
       "      <th>1</th>\n",
       "      <td>Corporate</td>\n",
       "      <td>201.992388</td>\n",
       "    </tr>\n",
       "    <tr>\n",
       "      <th>2</th>\n",
       "      <td>Home Office</td>\n",
       "      <td>198.350274</td>\n",
       "    </tr>\n",
       "  </tbody>\n",
       "</table>\n",
       "</div>"
      ],
      "text/plain": [
       "       Segment       Sales\n",
       "0     Consumer  247.383221\n",
       "1    Corporate  201.992388\n",
       "2  Home Office  198.350274"
      ]
     },
     "execution_count": 90,
     "metadata": {},
     "output_type": "execute_result"
    }
   ],
   "source": [
    "\n",
    "#GROUPBY (AGRUPA VALORES ÚNICOS SEGÚN OTRA VARIABLE)\n",
    "df_clientes = df_unido[['Segment','Sales']]\n",
    "df_clientes = df_clientes.groupby(['Segment'],as_index=False).mean()\n",
    "df_clientes"
   ]
  },
  {
   "cell_type": "markdown",
   "id": "a2e92170-7831-4524-9411-cad13413c587",
   "metadata": {},
   "source": [
    "Puede verse en la tabla con las ventas promedio según el tipo de consumidor, que los mayores compradores son los consumidores habituales (que realizan compras para uso personal). Luego las empresas y los trabajadores de HO generan aproximadamente lo mismo para el negocio. Podemos de todas formas ver qué compra mayormente cada tipo de cliente."
   ]
  },
  {
   "cell_type": "code",
   "execution_count": 91,
   "id": "12609409-8378-48bb-962a-ec592820c1d8",
   "metadata": {},
   "outputs": [
    {
     "data": {
      "text/html": [
       "<div>\n",
       "<style scoped>\n",
       "    .dataframe tbody tr th:only-of-type {\n",
       "        vertical-align: middle;\n",
       "    }\n",
       "\n",
       "    .dataframe tbody tr th {\n",
       "        vertical-align: top;\n",
       "    }\n",
       "\n",
       "    .dataframe thead th {\n",
       "        text-align: right;\n",
       "    }\n",
       "</style>\n",
       "<table border=\"1\" class=\"dataframe\">\n",
       "  <thead>\n",
       "    <tr style=\"text-align: right;\">\n",
       "      <th></th>\n",
       "      <th>Category</th>\n",
       "      <th>Segment</th>\n",
       "      <th>Sales</th>\n",
       "    </tr>\n",
       "  </thead>\n",
       "  <tbody>\n",
       "    <tr>\n",
       "      <th>0</th>\n",
       "      <td>Furniture</td>\n",
       "      <td>Consumer</td>\n",
       "      <td>342.040272</td>\n",
       "    </tr>\n",
       "    <tr>\n",
       "      <th>1</th>\n",
       "      <td>Furniture</td>\n",
       "      <td>Corporate</td>\n",
       "      <td>321.916884</td>\n",
       "    </tr>\n",
       "    <tr>\n",
       "      <th>2</th>\n",
       "      <td>Furniture</td>\n",
       "      <td>Home Office</td>\n",
       "      <td>421.913087</td>\n",
       "    </tr>\n",
       "    <tr>\n",
       "      <th>3</th>\n",
       "      <td>Office Supplies</td>\n",
       "      <td>Consumer</td>\n",
       "      <td>100.353301</td>\n",
       "    </tr>\n",
       "    <tr>\n",
       "      <th>4</th>\n",
       "      <td>Office Supplies</td>\n",
       "      <td>Corporate</td>\n",
       "      <td>113.060878</td>\n",
       "    </tr>\n",
       "    <tr>\n",
       "      <th>5</th>\n",
       "      <td>Office Supplies</td>\n",
       "      <td>Home Office</td>\n",
       "      <td>88.063662</td>\n",
       "    </tr>\n",
       "    <tr>\n",
       "      <th>6</th>\n",
       "      <td>Technology</td>\n",
       "      <td>Consumer</td>\n",
       "      <td>561.937874</td>\n",
       "    </tr>\n",
       "    <tr>\n",
       "      <th>7</th>\n",
       "      <td>Technology</td>\n",
       "      <td>Corporate</td>\n",
       "      <td>360.198217</td>\n",
       "    </tr>\n",
       "    <tr>\n",
       "      <th>8</th>\n",
       "      <td>Technology</td>\n",
       "      <td>Home Office</td>\n",
       "      <td>315.237435</td>\n",
       "    </tr>\n",
       "  </tbody>\n",
       "</table>\n",
       "</div>"
      ],
      "text/plain": [
       "          Category      Segment       Sales\n",
       "0        Furniture     Consumer  342.040272\n",
       "1        Furniture    Corporate  321.916884\n",
       "2        Furniture  Home Office  421.913087\n",
       "3  Office Supplies     Consumer  100.353301\n",
       "4  Office Supplies    Corporate  113.060878\n",
       "5  Office Supplies  Home Office   88.063662\n",
       "6       Technology     Consumer  561.937874\n",
       "7       Technology    Corporate  360.198217\n",
       "8       Technology  Home Office  315.237435"
      ]
     },
     "execution_count": 91,
     "metadata": {},
     "output_type": "execute_result"
    }
   ],
   "source": [
    "df_clientes_2 = df_unido[['Category','Segment','Sales']]\n",
    "df_clientes_2 = df_clientes_2.groupby(['Category','Segment'],as_index=False).mean()\n",
    "df_clientes_2"
   ]
  },
  {
   "cell_type": "markdown",
   "id": "250af982-ca9c-4443-87e2-b52d422b3c50",
   "metadata": {},
   "source": [
    "Ahora teniendo un mayor detalle de las ventas, se aprecia como los trabajadores de H.O no gastan tanto en material para oficina (por obvias razones), mientras que los mayores compradores en esos lados son las empresas (aunque sin mucha diferencia con el resto de clientes). También se aprecia una gran diferencia en las ventas realizadas hacia consumidores comunes en el rubro tecnológico, donde supera con creces a los valores generados por corporaciones y trabajadores de H.O. Por último, está bueno recalcar que estos últimos clientes prefieren generar gastos en amoblamiento para su casa, se podría creer que para tener un lugar de trabajo cómodo."
   ]
  }
 ],
 "metadata": {
  "kernelspec": {
   "display_name": "Python 3 (ipykernel)",
   "language": "python",
   "name": "python3"
  },
  "language_info": {
   "codemirror_mode": {
    "name": "ipython",
    "version": 3
   },
   "file_extension": ".py",
   "mimetype": "text/x-python",
   "name": "python",
   "nbconvert_exporter": "python",
   "pygments_lexer": "ipython3",
   "version": "3.11.4"
  }
 },
 "nbformat": 4,
 "nbformat_minor": 5
}
