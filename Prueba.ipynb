{
 "cells": [
  {
   "cell_type": "markdown",
   "id": "fabee8e0-25d9-4688-a015-7134c10baaca",
   "metadata": {},
   "source": [
    "# Éste es un título\n",
    "## Éste un subtítulo "
   ]
  },
  {
   "cell_type": "code",
   "execution_count": 10,
   "id": "be109de0-cfc3-418b-8fce-7c016ff9d113",
   "metadata": {},
   "outputs": [],
   "source": [
    "#Librerías\n",
    "import random"
   ]
  },
  {
   "cell_type": "code",
   "execution_count": 11,
   "id": "47548dfa-b476-4f11-9cbe-08ec23729be5",
   "metadata": {},
   "outputs": [
    {
     "name": "stdout",
     "output_type": "stream",
     "text": [
      "37\n"
     ]
    }
   ],
   "source": [
    "r = random.randint(30,40)\n",
    "print(r)"
   ]
  }
 ],
 "metadata": {
  "kernelspec": {
   "display_name": "Python 3 (ipykernel)",
   "language": "python",
   "name": "python3"
  },
  "language_info": {
   "codemirror_mode": {
    "name": "ipython",
    "version": 3
   },
   "file_extension": ".py",
   "mimetype": "text/x-python",
   "name": "python",
   "nbconvert_exporter": "python",
   "pygments_lexer": "ipython3",
   "version": "3.11.4"
  }
 },
 "nbformat": 4,
 "nbformat_minor": 5
}
